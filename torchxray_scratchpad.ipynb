{
 "cells": [
  {
   "cell_type": "code",
   "execution_count": 23,
   "metadata": {},
   "outputs": [],
   "source": [
    "import sys\n",
    "import torchxrayvision as xrv\n",
    "import skimage, torch, torchvision\n",
    "\n",
    "sys.path.append('../../repos/torchxrayvision/')"
   ]
  },
  {
   "cell_type": "code",
   "execution_count": 15,
   "metadata": {},
   "outputs": [
    {
     "name": "stdout",
     "output_type": "stream",
     "text": [
      "Downloading weights...\n",
      "If this fails you can run `wget https://github.com/mlmed/torchxrayvision/releases/download/v1/chex-densenet121-d121-tw-lr001-rot45-tr15-sc15-seed0-best.pt -O /homes8/jesseba/.torchxrayvision/models_data/chex-densenet121-d121-tw-lr001-rot45-tr15-sc15-seed0-best.pt`\n",
      "[██████████████████████████████████████████████████]\n"
     ]
    }
   ],
   "source": [
    "model = xrv.models.DenseNet(weights=\"densenet121-res224-chex\")"
   ]
  },
  {
   "cell_type": "code",
   "execution_count": 16,
   "metadata": {},
   "outputs": [],
   "source": [
    "im_path = '/lotterlab/datasets/CheXpert-v1.0-small/valid/patient64541/study1/view1_frontal.jpg'"
   ]
  },
  {
   "cell_type": "code",
   "execution_count": 17,
   "metadata": {},
   "outputs": [],
   "source": [
    "img = skimage.io.imread(im_path)\n",
    "img = xrv.datasets.normalize(img, 255)  \n",
    "\n",
    "# Check that images are 2D arrays\n",
    "if len(img.shape) > 2:\n",
    "    img = img[:, :, 0]\n",
    "if len(img.shape) < 2:\n",
    "    print(\"error, dimension lower than 2 for image\")\n",
    "\n",
    "# Add color channel\n",
    "img = img[None, :, :]\n",
    "\n",
    "transform = torchvision.transforms.Compose([xrv.datasets.XRayCenterCrop()])\n",
    "\n",
    "img = transform(img)"
   ]
  },
  {
   "cell_type": "code",
   "execution_count": 25,
   "metadata": {},
   "outputs": [
    {
     "data": {
      "text/plain": [
       "array([[[-983.84314, -983.84314, -983.84314, ..., -927.62354,\n",
       "         -927.62354, -927.62354],\n",
       "        [-983.84314, -983.84314, -983.84314, ..., -927.62354,\n",
       "         -927.62354, -927.62354],\n",
       "        [-983.84314, -983.84314, -983.84314, ..., -927.62354,\n",
       "         -927.62354, -927.62354],\n",
       "        ...,\n",
       "        [ 766.9961 ,  783.05884,  783.05884, ...,  630.46277,\n",
       "          606.36865,  606.36865],\n",
       "        [ 783.05884,  758.9647 ,  766.9961 , ...,  630.46277,\n",
       "          590.3059 ,  598.3373 ],\n",
       "        [ 775.02747,  766.9961 ,  807.15295, ...,  646.5255 ,\n",
       "          646.5255 ,  598.3373 ]]], dtype=float32)"
      ]
     },
     "execution_count": 25,
     "metadata": {},
     "output_type": "execute_result"
    }
   ],
   "source": [
    "img"
   ]
  },
  {
   "cell_type": "code",
   "execution_count": 8,
   "metadata": {},
   "outputs": [],
   "source": [
    "transform = torchvision.transforms.Compose([xrv.datasets.XRayCenterCrop(),\n",
    "                                            xrv.datasets.XRayResizer(224)])\n",
    "\n",
    "d_chex = xrv.datasets.CheX_Dataset(imgpath=\"/lotterlab/datasets/CheXpert-v1.0-small\",\n",
    "                                   csvpath=\"/lotterlab/datasets/CheXpert-v1.0-small/train.csv\",\n",
    "                                   transform=transform)\n"
   ]
  },
  {
   "cell_type": "code",
   "execution_count": 13,
   "metadata": {},
   "outputs": [
    {
     "name": "stdout",
     "output_type": "stream",
     "text": [
      "{'Atelectasis': {0.0: 5007, 1.0: 2460},\n",
      " 'Cardiomegaly': {0.0: 6500, 1.0: 2117},\n",
      " 'Consolidation': {0.0: 8826, 1.0: 1125},\n",
      " 'Edema': {0.0: 7576, 1.0: 1330},\n",
      " 'Effusion': {0.0: 9272, 1.0: 5206},\n",
      " 'Enlarged Cardiomediastinum': {0.0: 7694, 1.0: 1100},\n",
      " 'Fracture': {0.0: 5092, 1.0: 1115},\n",
      " 'Lung Lesion': {0.0: 5158, 1.0: 1655},\n",
      " 'Lung Opacity': {0.0: 5544, 1.0: 7006},\n",
      " 'Pleural Other': {0.0: 4935, 1.0: 782},\n",
      " 'Pneumonia': {0.0: 5247, 1.0: 992},\n",
      " 'Pneumothorax': {0.0: 9208, 1.0: 1060},\n",
      " 'Support Devices': {0.0: 591, 1.0: 5755}}\n"
     ]
    },
    {
     "data": {
      "text/plain": [
       "<bound method Dataset.totals of CheX_Dataset num_samples=20543 views=['PA'] data_aug=None>"
      ]
     },
     "execution_count": 13,
     "metadata": {},
     "output_type": "execute_result"
    }
   ],
   "source": [
    "d_chex.totals"
   ]
  },
  {
   "cell_type": "code",
   "execution_count": 26,
   "metadata": {},
   "outputs": [
    {
     "data": {
      "text/plain": [
       "True"
      ]
     },
     "execution_count": 26,
     "metadata": {},
     "output_type": "execute_result"
    }
   ],
   "source": [
    "torch.cuda.is_available()"
   ]
  },
  {
   "cell_type": "code",
   "execution_count": 27,
   "metadata": {},
   "outputs": [
    {
     "data": {
      "text/plain": [
       "0"
      ]
     },
     "execution_count": 27,
     "metadata": {},
     "output_type": "execute_result"
    }
   ],
   "source": [
    "torch.cuda.current_device()"
   ]
  },
  {
   "cell_type": "code",
   "execution_count": 28,
   "metadata": {},
   "outputs": [],
   "source": [
    "t_im = torch.from_numpy(img).unsqueeze(0)"
   ]
  },
  {
   "cell_type": "code",
   "execution_count": 29,
   "metadata": {},
   "outputs": [
    {
     "data": {
      "text/plain": [
       "tensor([[[[-983.8431, -983.8431, -983.8431,  ..., -927.6235, -927.6235,\n",
       "           -927.6235],\n",
       "          [-983.8431, -983.8431, -983.8431,  ..., -927.6235, -927.6235,\n",
       "           -927.6235],\n",
       "          [-983.8431, -983.8431, -983.8431,  ..., -927.6235, -927.6235,\n",
       "           -927.6235],\n",
       "          ...,\n",
       "          [ 766.9961,  783.0588,  783.0588,  ...,  630.4628,  606.3687,\n",
       "            606.3687],\n",
       "          [ 783.0588,  758.9647,  766.9961,  ...,  630.4628,  590.3059,\n",
       "            598.3373],\n",
       "          [ 775.0275,  766.9961,  807.1530,  ...,  646.5255,  646.5255,\n",
       "            598.3373]]]])"
      ]
     },
     "execution_count": 29,
     "metadata": {},
     "output_type": "execute_result"
    }
   ],
   "source": [
    "t_im"
   ]
  },
  {
   "cell_type": "code",
   "execution_count": 30,
   "metadata": {},
   "outputs": [
    {
     "data": {
      "text/plain": [
       "False"
      ]
     },
     "execution_count": 30,
     "metadata": {},
     "output_type": "execute_result"
    }
   ],
   "source": []
  },
  {
   "cell_type": "code",
   "execution_count": null,
   "metadata": {},
   "outputs": [],
   "source": []
  }
 ],
 "metadata": {
  "kernelspec": {
   "display_name": "Python 3",
   "language": "python",
   "name": "python3"
  },
  "language_info": {
   "codemirror_mode": {
    "name": "ipython",
    "version": 3
   },
   "file_extension": ".py",
   "mimetype": "text/x-python",
   "name": "python",
   "nbconvert_exporter": "python",
   "pygments_lexer": "ipython3",
   "version": "3.9.16"
  }
 },
 "nbformat": 4,
 "nbformat_minor": 4
}
